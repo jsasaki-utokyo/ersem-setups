{
 "cells": [
  {
   "cell_type": "code",
   "execution_count": null,
   "id": "6e84c431-9408-4367-92d6-bbf0750f316d",
   "metadata": {},
   "outputs": [],
   "source": [
    "from gotm_ersem import GotmErsem, GotmErsemConfig, GotmErsemData, GotmErsemPlotter, get_var, set_size\n",
    "import matplotlib.pyplot as plt"
   ]
  },
  {
   "cell_type": "code",
   "execution_count": null,
   "id": "c717b0c4-40f0-457c-8c55-458fa243e518",
   "metadata": {},
   "outputs": [],
   "source": [
    "ncfile = 'Kawasaki_2016_hourly_mean_16.06.nc'\n",
    "kawasaki = GotmErsem(ncfile)\n",
    "#kawasaki.ds"
   ]
  },
  {
   "cell_type": "code",
   "execution_count": null,
   "id": "143a1dcd-9103-40ca-92da-62a0cf4025fd",
   "metadata": {},
   "outputs": [],
   "source": [
    "plot_cfg = GotmErsemConfig(w=8, h=1.6)"
   ]
  },
  {
   "cell_type": "code",
   "execution_count": null,
   "id": "9471b5b6-3bf6-4621-8a44-5194089a0163",
   "metadata": {},
   "outputs": [],
   "source": [
    "varname='rho'\n",
    "vrange=(1010,1026)\n",
    "data = GotmErsemData(kawasaki, varname, vrange=vrange, ylabel='Depth (m)', vlabel='Density (kg/m$^3$)')"
   ]
  },
  {
   "cell_type": "markdown",
   "id": "c0dcdd9f-f133-4165-b5f0-a8fb65ac16a7",
   "metadata": {},
   "source": [
    "### Override arguments\n",
    "Specify `pcolormesh`, `colorbar`, and `savefig` dictionaries to override default arguments, e.g., as follows:\n",
    "```Python\n",
    "GotmErsemPlotter(0, kawasaki, plot_cfg, data).save2d('test.png',\n",
    "                                                     pcolormesh={'cmap': 'viridis'},\n",
    "                                                     colorbar={'pad': 0.02}\n",
    "                                                     savefig={'dpi':300})\n",
    "```"
   ]
  },
  {
   "cell_type": "code",
   "execution_count": null,
   "id": "ad9b77ab-28f5-4489-92f2-b1200bf9901d",
   "metadata": {},
   "outputs": [],
   "source": [
    "pngfile='output.png'\n",
    "GotmErsemPlotter(0, kawasaki, plot_cfg, data).save2d(pngfile,\n",
    "                                                     pcolormesh={},\n",
    "                                                     colorbar={},\n",
    "                                                     savefig={})"
   ]
  },
  {
   "cell_type": "code",
   "execution_count": null,
   "id": "b6919178-a238-44aa-8bb8-30a7c1fedd76",
   "metadata": {},
   "outputs": [],
   "source": [
    "from IPython.display import Image, display\n",
    "display(Image(filename=pngfile))"
   ]
  },
  {
   "cell_type": "code",
   "execution_count": null,
   "id": "42ece086-0ea1-4375-8aa9-8025a76a4308",
   "metadata": {},
   "outputs": [],
   "source": []
  }
 ],
 "metadata": {
  "kernelspec": {
   "display_name": "Python 3 (ipykernel)",
   "language": "python",
   "name": "python3"
  },
  "language_info": {
   "codemirror_mode": {
    "name": "ipython",
    "version": 3
   },
   "file_extension": ".py",
   "mimetype": "text/x-python",
   "name": "python",
   "nbconvert_exporter": "python",
   "pygments_lexer": "ipython3",
   "version": "3.11.10"
  }
 },
 "nbformat": 4,
 "nbformat_minor": 5
}
