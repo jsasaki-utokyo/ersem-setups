{
 "cells": [
  {
   "cell_type": "markdown",
   "id": "abd87357-b082-434a-bef2-6c7fbc4ee2aa",
   "metadata": {},
   "source": [
    "# GOTM-ERSEM Plotting\n",
    "**Author: Jun Sasaki  coded on 2024-09-16  Updated on 2024-09-16**<br>\n"
   ]
  },
  {
   "cell_type": "code",
   "execution_count": null,
   "id": "363b99ab-0049-42f4-9949-f8e3976c59b8",
   "metadata": {},
   "outputs": [],
   "source": [
    "import xarray as xr\n",
    "import pandas as pd\n",
    "import numpy as np\n",
    "import matplotlib.pyplot as plt\n",
    "from matplotlib.gridspec import GridSpec\n",
    "from mpl_toolkits.axes_grid1 import make_axes_locatable"
   ]
  },
  {
   "cell_type": "code",
   "execution_count": null,
   "id": "8d6e68ef-59c3-4c44-8c0f-41d290051a38",
   "metadata": {},
   "outputs": [],
   "source": [
    "def update_datetime_in_file(input_file, start_time, end_time, freq, output_file):\n",
    "    # 指定された期間で新しい時間範囲を生成\n",
    "    time_range = pd.date_range(start=start_time, end=end_time, freq=freq)\n",
    "    \n",
    "    # 元のファイルを読み込む\n",
    "    with open(input_file, 'r') as f:\n",
    "        lines = f.readlines()\n",
    "    \n",
    "    # 新しいファイルに書き込む\n",
    "    with open(output_file, 'w') as f:\n",
    "        for i, line in enumerate(lines):\n",
    "            # 新しい日時を取得し、既存の行と組み合わせて書き込む\n",
    "            value = line.split()[2]  # 元のデータの3列目（数値部分）を取得\n",
    "            new_time = time_range[i]  # 新しい時間\n",
    "            f.write(f\"{new_time} {value}\\n\")"
   ]
  },
  {
   "cell_type": "code",
   "execution_count": null,
   "id": "cc729ac0-5e46-4108-908f-81afd2eeda4e",
   "metadata": {},
   "outputs": [],
   "source": [
    "'''\n",
    "# File paths\n",
    "input_file = 'light2_2016.dat'\n",
    "output_file = 'updated_light2_2016.dat'\n",
    "\n",
    "# Running the function\n",
    "update_datetime_in_file(input_file, '2016-01-01 00:00:00', '2017-01-01 00:00:00', '1h', output_file)\n",
    "'''"
   ]
  },
  {
   "cell_type": "code",
   "execution_count": null,
   "id": "22fe1cea-578b-45ed-8a20-f2e4cc12923f",
   "metadata": {},
   "outputs": [],
   "source": [
    "def set_size(w, h, ax=None, colorbar=True):\n",
    "    \"\"\" w, h: width, height in inches (size of plot area, excluding labels)\n",
    "    \"\"\"\n",
    "    if ax is None:\n",
    "        ax = plt.gca()\n",
    "\n",
    "    # Get the position of the plot area excluding labels\n",
    "    pos = ax.get_position()\n",
    "    plot_width = pos.width\n",
    "    plot_height = pos.height\n",
    "\n",
    "    # Subplot parameters related to figure-wide margins (left, right, top, bottom)\n",
    "    fig_left = ax.figure.subplotpars.left\n",
    "    fig_right = ax.figure.subplotpars.right\n",
    "    fig_top = ax.figure.subplotpars.top\n",
    "    fig_bottom = ax.figure.subplotpars.bottom\n",
    "\n",
    "    # Calculate the figure width and height based on the plot area\n",
    "    fig_width = w / plot_width\n",
    "    fig_height = h / plot_height\n",
    "    ax.figure.set_size_inches(fig_width, fig_height)"
   ]
  },
  {
   "cell_type": "code",
   "execution_count": null,
   "id": "380e8f67-89b0-460b-8dd1-3c46e9a7795e",
   "metadata": {},
   "outputs": [],
   "source": [
    "ncfile = 'Kawasaki_2016_hourly_mean_16.06.nc'\n",
    "ds = xr.open_dataset(ncfile)\n",
    "#ds = ds.sel(time=slice('2016-01-01', '2016-01-03'))"
   ]
  },
  {
   "cell_type": "code",
   "execution_count": null,
   "id": "e66ed517-ff8a-4d23-9550-7126af5ec54e",
   "metadata": {},
   "outputs": [],
   "source": [
    "ds"
   ]
  },
  {
   "cell_type": "code",
   "execution_count": null,
   "id": "6e7c72f0-131c-4d28-8696-ed348e3222b1",
   "metadata": {},
   "outputs": [],
   "source": [
    "var='rho' # 'light_EIR' 'O2_o'\n",
    "vts = ds[var].squeeze(dim=['lat', 'lon'], drop=True)\n",
    "depth = ds['z'].squeeze(dim=['lat', 'lon'], drop=True)\n",
    "time = vts['time'].values\n",
    "depth_values = depth.values\n",
    "time_edges = np.concatenate([time, [time[-1] + (time[-1] - time[-2])]]) - (time[1] - time[0]) / 2\n",
    "depth_edges = np.concatenate([depth_values[0, :], [depth_values[0, -1] + (depth_values[0, -1] - depth_values[0, -2])]]) - (depth_values[0, 1] - depth_values[0, 0]) / 2"
   ]
  },
  {
   "cell_type": "code",
   "execution_count": null,
   "id": "2ac61ce1-5f90-463d-8879-aa6b8b4360fb",
   "metadata": {},
   "outputs": [],
   "source": [
    "#vts[1, 0:99]"
   ]
  },
  {
   "cell_type": "code",
   "execution_count": null,
   "id": "3d53f73c-6ba5-4dcf-8d25-c14d3de1ea49",
   "metadata": {
    "scrolled": true
   },
   "outputs": [],
   "source": [
    "vmin, vmax = (1010, 1026) # (12,30) (20,35) (0,600)\n",
    "cbar_label='Density (kg/m$_3$)' # 'Radiation (W/m$^2$)' # 'Salt. (PSU)' 'O$_2$ (mmol/m$^3$)'\n",
    "fig, ax = plt.subplots()\n",
    "mesh=ax.pcolormesh(time_edges, depth_edges, vts.T, shading='flat', cmap='jet', vmin=vmin, vmax=vmax)\n",
    "ax.set_xlabel('')\n",
    "ax.set_ylabel('Depth (m)', fontsize=12)\n",
    "#cax = fig.add_subplot(gs[0,1])\n",
    "cbar = fig.colorbar(mesh, ax=ax, pad=0.01)\n",
    "cbar.set_label(cbar_label)\n",
    "ax.tick_params(axis='x', rotation=45)\n",
    "set_size(8,1.6,ax=ax, colorbar=False)\n",
    "plt.savefig('test1.png', dpi=600, bbox_inches='tight')\n"
   ]
  },
  {
   "cell_type": "code",
   "execution_count": null,
   "id": "0dd29961-4c36-4da4-acfe-a60b2a8576f1",
   "metadata": {},
   "outputs": [],
   "source": []
  }
 ],
 "metadata": {
  "kernelspec": {
   "display_name": "Python 3 (ipykernel)",
   "language": "python",
   "name": "python3"
  },
  "language_info": {
   "codemirror_mode": {
    "name": "ipython",
    "version": 3
   },
   "file_extension": ".py",
   "mimetype": "text/x-python",
   "name": "python",
   "nbconvert_exporter": "python",
   "pygments_lexer": "ipython3",
   "version": "3.11.10"
  }
 },
 "nbformat": 4,
 "nbformat_minor": 5
}
